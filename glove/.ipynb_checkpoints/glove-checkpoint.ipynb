{
 "cells": [
  {
   "cell_type": "code",
   "execution_count": 2,
   "id": "cc56bf23",
   "metadata": {},
   "outputs": [],
   "source": [
    "from gensim.scripts.glove2word2vec import glove2word2vec\n",
    "from gensim.models import\n",
    "from gensim.models import KeyedVectors"
   ]
  },
  {
   "cell_type": "code",
   "execution_count": 3,
   "id": "cd9ebd81",
   "metadata": {},
   "outputs": [
    {
     "name": "stderr",
     "output_type": "stream",
     "text": [
      "/tmp/ipykernel_16950/1435307707.py:3: DeprecationWarning: Call to deprecated `glove2word2vec` (KeyedVectors.load_word2vec_format(.., binary=False, no_header=True) loads GLoVE text vectors.).\n",
      "  glove2word2vec(gloveInput,word2vecOutput)\n"
     ]
    },
    {
     "data": {
      "text/plain": [
       "(400000, 100)"
      ]
     },
     "execution_count": 3,
     "metadata": {},
     "output_type": "execute_result"
    }
   ],
   "source": [
    "gloveInput=\"glove.6B.100d.txt\"\n",
    "word2vecOutput=\"glove.6B.100d.word2vec\"\n",
    "glove2word2vec(gloveInput,word2vecOutput)"
   ]
  },
  {
   "cell_type": "code",
   "execution_count": 4,
   "id": "a452005e",
   "metadata": {},
   "outputs": [],
   "source": [
    "model=KeyedVectors.load_word2vec_format(word2vecOutput,binary=False)\n"
   ]
  },
  {
   "cell_type": "code",
   "execution_count": 5,
   "id": "1221962a",
   "metadata": {},
   "outputs": [
    {
     "data": {
      "text/plain": [
       "array([-0.23905 , -0.089122, -0.24139 ,  0.20571 ,  0.14523 , -0.2685  ,\n",
       "       -1.0236  , -0.11594 ,  1.4249  ,  0.89716 , -0.63526 ,  0.33039 ,\n",
       "        1.0476  ,  0.72151 , -0.94447 ,  0.45715 , -0.8347  , -0.87787 ,\n",
       "       -0.60017 , -0.22992 , -0.54588 ,  0.10142 ,  0.22876 ,  0.1426  ,\n",
       "        0.035563, -0.24527 , -0.39242 , -0.31192 ,  0.55792 ,  0.30235 ,\n",
       "       -1.0285  ,  0.44476 ,  0.56762 ,  0.57434 ,  0.10355 ,  0.49878 ,\n",
       "        0.97457 ,  0.6416  , -1.0659  , -0.5727  , -0.72091 , -0.12051 ,\n",
       "        0.34902 , -0.14957 ,  0.51625 , -0.60742 ,  0.61929 , -0.54246 ,\n",
       "       -0.054046,  0.80308 ,  0.55721 , -0.29308 ,  0.59632 ,  0.98124 ,\n",
       "       -1.116   , -1.0345  ,  0.49239 , -0.53157 ,  0.34496 , -0.22874 ,\n",
       "       -0.042682,  0.1804  , -0.27076 ,  0.22527 , -0.69061 ,  0.50308 ,\n",
       "       -1.271   ,  0.76043 , -0.92042 ,  0.54158 , -0.16269 , -0.81497 ,\n",
       "       -0.30823 , -0.44263 ,  0.059394,  0.27411 , -0.080613,  0.096886,\n",
       "       -1.0806  ,  0.6535  ,  0.19644 , -0.38305 , -0.22366 , -0.72319 ,\n",
       "        0.083402,  0.51586 ,  0.2543  ,  0.44243 , -0.52047 , -0.10282 ,\n",
       "        0.5519  ,  0.21821 , -1.121   , -0.097627, -0.63288 ,  0.64999 ,\n",
       "        0.32902 ,  0.25782 ,  0.72049 ,  0.2934  ], dtype=float32)"
      ]
     },
     "execution_count": 5,
     "metadata": {},
     "output_type": "execute_result"
    }
   ],
   "source": [
    "model[\"ankara\"]"
   ]
  },
  {
   "cell_type": "code",
   "execution_count": 7,
   "id": "c0f96fb3",
   "metadata": {},
   "outputs": [
    {
     "data": {
      "text/plain": [
       "[('tasty', 0.862883985042572),\n",
       " ('spicy', 0.7911790609359741),\n",
       " ('dessert', 0.7600688338279724),\n",
       " ('savory', 0.7334800362586975),\n",
       " ('refreshing', 0.7245497703552246),\n",
       " ('flavor', 0.7094911336898804),\n",
       " ('desserts', 0.7085403203964233),\n",
       " ('delightful', 0.7065228223800659),\n",
       " ('flavorful', 0.7050560116767883),\n",
       " ('baked', 0.7047907114028931)]"
      ]
     },
     "execution_count": 7,
     "metadata": {},
     "output_type": "execute_result"
    }
   ],
   "source": [
    "model.most_similar(\"delicious\")"
   ]
  },
  {
   "cell_type": "code",
   "execution_count": 12,
   "id": "80d5f2e6",
   "metadata": {},
   "outputs": [
    {
     "data": {
      "text/plain": [
       "[('daughter', 0.9090957045555115)]"
      ]
     },
     "execution_count": 12,
     "metadata": {},
     "output_type": "execute_result"
    }
   ],
   "source": [
    "model.most_similar(positive=[\"son\",\"woman\"],negative=[\"man\"],topn=1)"
   ]
  },
  {
   "cell_type": "code",
   "execution_count": null,
   "id": "d2a19ba0",
   "metadata": {},
   "outputs": [],
   "source": []
  }
 ],
 "metadata": {
  "kernelspec": {
   "display_name": "Python 3 (ipykernel)",
   "language": "python",
   "name": "python3"
  },
  "language_info": {
   "codemirror_mode": {
    "name": "ipython",
    "version": 3
   },
   "file_extension": ".py",
   "mimetype": "text/x-python",
   "name": "python",
   "nbconvert_exporter": "python",
   "pygments_lexer": "ipython3",
   "version": "3.9.19"
  }
 },
 "nbformat": 4,
 "nbformat_minor": 5
}
