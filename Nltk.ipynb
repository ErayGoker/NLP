{
 "cells": [
  {
   "cell_type": "markdown",
   "id": "39d4f535",
   "metadata": {},
   "source": [
    "\n",
    "# Tokenize "
   ]
  },
  {
   "cell_type": "code",
   "execution_count": 20,
   "id": "2a274d8d",
   "metadata": {},
   "outputs": [],
   "source": [
    "from nltk.tokenize import sent_tokenize,word_tokenize"
   ]
  },
  {
   "cell_type": "code",
   "execution_count": 21,
   "id": "e20ab2f3",
   "metadata": {},
   "outputs": [],
   "source": [
    "text= \"Alan Turing, Ingiliz matematikci,bilgisayar bilimcisi ve kriptolog. Bilgisayar biliminin kurucusu sayilir. Gelistimis oldugu Turing testi ile makinelerin ve bilgisayarlarin dusunme,yetisine sahip olup olamayacaklari konusunda bir kriter one surmustur. \""
   ]
  },
  {
   "cell_type": "code",
   "execution_count": 22,
   "id": "7f9ba988",
   "metadata": {},
   "outputs": [
    {
     "data": {
      "text/plain": [
       "['Alan',\n",
       " 'Turing,',\n",
       " 'Ingiliz',\n",
       " 'matematikci,bilgisayar',\n",
       " 'bilimcisi',\n",
       " 've',\n",
       " 'kriptolog.',\n",
       " 'Bilgisayar',\n",
       " 'biliminin',\n",
       " 'kurucusu',\n",
       " 'sayilir.',\n",
       " 'Gelistimis',\n",
       " 'oldugu',\n",
       " 'Turing',\n",
       " 'testi',\n",
       " 'ile',\n",
       " 'makinelerin',\n",
       " 've',\n",
       " 'bilgisayarlarin',\n",
       " 'dusunme,yetisine',\n",
       " 'sahip',\n",
       " 'olup',\n",
       " 'olamayacaklari',\n",
       " 'konusunda',\n",
       " 'bir',\n",
       " 'kriter',\n",
       " 'one',\n",
       " 'surmustur.',\n",
       " '']"
      ]
     },
     "execution_count": 22,
     "metadata": {},
     "output_type": "execute_result"
    }
   ],
   "source": [
    "text.split(\" \")"
   ]
  },
  {
   "cell_type": "code",
   "execution_count": 23,
   "id": "13677fc6",
   "metadata": {},
   "outputs": [
    {
     "data": {
      "text/plain": [
       "['Alan',\n",
       " 'Turing',\n",
       " ',',\n",
       " 'Ingiliz',\n",
       " 'matematikci',\n",
       " ',',\n",
       " 'bilgisayar',\n",
       " 'bilimcisi',\n",
       " 've',\n",
       " 'kriptolog',\n",
       " '.',\n",
       " 'Bilgisayar',\n",
       " 'biliminin',\n",
       " 'kurucusu',\n",
       " 'sayilir',\n",
       " '.',\n",
       " 'Gelistimis',\n",
       " 'oldugu',\n",
       " 'Turing',\n",
       " 'testi',\n",
       " 'ile',\n",
       " 'makinelerin',\n",
       " 've',\n",
       " 'bilgisayarlarin',\n",
       " 'dusunme',\n",
       " ',',\n",
       " 'yetisine',\n",
       " 'sahip',\n",
       " 'olup',\n",
       " 'olamayacaklari',\n",
       " 'konusunda',\n",
       " 'bir',\n",
       " 'kriter',\n",
       " 'one',\n",
       " 'surmustur',\n",
       " '.']"
      ]
     },
     "execution_count": 23,
     "metadata": {},
     "output_type": "execute_result"
    }
   ],
   "source": [
    "word_tokenize(text)"
   ]
  },
  {
   "cell_type": "code",
   "execution_count": 24,
   "id": "4947a500",
   "metadata": {},
   "outputs": [
    {
     "data": {
      "text/plain": [
       "['Alan Turing, Ingiliz matematikci,bilgisayar bilimcisi ve kriptolog.',\n",
       " 'Bilgisayar biliminin kurucusu sayilir.',\n",
       " 'Gelistimis oldugu Turing testi ile makinelerin ve bilgisayarlarin dusunme,yetisine sahip olup olamayacaklari konusunda bir kriter one surmustur.']"
      ]
     },
     "execution_count": 24,
     "metadata": {},
     "output_type": "execute_result"
    }
   ],
   "source": [
    "sent_tokenize(text)"
   ]
  },
  {
   "cell_type": "code",
   "execution_count": 25,
   "id": "9b2b133f",
   "metadata": {},
   "outputs": [
    {
     "name": "stdout",
     "output_type": "stream",
     "text": [
      "Alan\n",
      "Turing\n",
      ",\n",
      "Ingiliz\n",
      "matematikci\n",
      ",\n",
      "bilgisayar\n",
      "bilimcisi\n",
      "ve\n",
      "kriptolog\n",
      ".\n",
      "Bilgisayar\n",
      "biliminin\n",
      "kurucusu\n",
      "sayilir\n",
      ".\n",
      "Gelistimis\n",
      "oldugu\n",
      "Turing\n",
      "testi\n",
      "ile\n",
      "makinelerin\n",
      "ve\n",
      "bilgisayarlarin\n",
      "dusunme\n",
      ",\n",
      "yetisine\n",
      "sahip\n",
      "olup\n",
      "olamayacaklari\n",
      "konusunda\n",
      "bir\n",
      "kriter\n",
      "one\n",
      "surmustur\n",
      ".\n"
     ]
    }
   ],
   "source": [
    "for token in word_tokenize(text):\n",
    "    print(token)"
   ]
  },
  {
   "cell_type": "markdown",
   "id": "d5591af2",
   "metadata": {},
   "source": [
    "# Stop Words"
   ]
  },
  {
   "cell_type": "code",
   "execution_count": 28,
   "id": "7c001175",
   "metadata": {},
   "outputs": [],
   "source": [
    "from nltk.corpus import stopwords\n",
    "from nltk.tokenize import word_tokenize"
   ]
  },
  {
   "cell_type": "code",
   "execution_count": 32,
   "id": "e6f0cf29",
   "metadata": {},
   "outputs": [],
   "source": [
    "text = 'Fazıl Say is a Turkish pianist and composer who was born in Ankara, described recently as \"not merely a pianist of genius; but undoubtedly he will be one of the great artists of the twenty-first century\".'"
   ]
  },
  {
   "cell_type": "code",
   "execution_count": 37,
   "id": "23bdc2fc",
   "metadata": {},
   "outputs": [],
   "source": [
    "stopwords=stopwords.words(\"english\")"
   ]
  },
  {
   "cell_type": "code",
   "execution_count": 38,
   "id": "2f5110e8",
   "metadata": {},
   "outputs": [],
   "source": [
    "words=word_tokenize(text)"
   ]
  },
  {
   "cell_type": "code",
   "execution_count": 39,
   "id": "0638b702",
   "metadata": {},
   "outputs": [],
   "source": [
    "filtered_words=[]\n",
    "for word in words:\n",
    "    if word not in stopwords:\n",
    "        filtered_words.append(word)"
   ]
  },
  {
   "cell_type": "code",
   "execution_count": 40,
   "id": "f2430bf0",
   "metadata": {},
   "outputs": [
    {
     "data": {
      "text/plain": [
       "['Fazıl',\n",
       " 'Say',\n",
       " 'Turkish',\n",
       " 'pianist',\n",
       " 'composer',\n",
       " 'born',\n",
       " 'Ankara',\n",
       " ',',\n",
       " 'described',\n",
       " 'recently',\n",
       " '``',\n",
       " 'merely',\n",
       " 'pianist',\n",
       " 'genius',\n",
       " ';',\n",
       " 'undoubtedly',\n",
       " 'one',\n",
       " 'great',\n",
       " 'artists',\n",
       " 'twenty-first',\n",
       " 'century',\n",
       " \"''\",\n",
       " '.']"
      ]
     },
     "execution_count": 40,
     "metadata": {},
     "output_type": "execute_result"
    }
   ],
   "source": [
    "filtered_words"
   ]
  },
  {
   "cell_type": "markdown",
   "id": "ae5d8252",
   "metadata": {},
   "source": [
    "# Stemming\n"
   ]
  },
  {
   "cell_type": "code",
   "execution_count": 41,
   "id": "6fa30af3",
   "metadata": {},
   "outputs": [],
   "source": [
    "from nltk.stem import PorterStemmer"
   ]
  },
  {
   "cell_type": "code",
   "execution_count": 42,
   "id": "69ec8e9d",
   "metadata": {},
   "outputs": [],
   "source": [
    "ps=PorterStemmer()"
   ]
  },
  {
   "cell_type": "code",
   "execution_count": 43,
   "id": "c5816f0b",
   "metadata": {},
   "outputs": [],
   "source": [
    "words=[\"drive\",\"driving\",\"driver\",\"drives\",\"drove\",\"cats\",\"children\"]"
   ]
  },
  {
   "cell_type": "code",
   "execution_count": 44,
   "id": "51c8d368",
   "metadata": {},
   "outputs": [
    {
     "name": "stdout",
     "output_type": "stream",
     "text": [
      "drive\n",
      "drive\n",
      "driver\n",
      "drive\n",
      "drove\n",
      "cat\n",
      "children\n"
     ]
    }
   ],
   "source": [
    "for token in words:\n",
    "    print(ps.stem(token))"
   ]
  },
  {
   "cell_type": "code",
   "execution_count": 45,
   "id": "28979dfd",
   "metadata": {},
   "outputs": [],
   "source": [
    "# stemming hatali koke indirme yapabilir "
   ]
  },
  {
   "cell_type": "markdown",
   "id": "719157a7",
   "metadata": {},
   "source": [
    "## speech tagging"
   ]
  },
  {
   "cell_type": "code",
   "execution_count": 46,
   "id": "95a0f4a5",
   "metadata": {},
   "outputs": [],
   "source": [
    "import nltk"
   ]
  },
  {
   "cell_type": "code",
   "execution_count": 47,
   "id": "eddb377b",
   "metadata": {},
   "outputs": [],
   "source": [
    "text = 'Friedrich Wilhelm Nietzsche was a German philosopher, cultural critic, composer, poet, philologist, and a Latin and Greek scholar whose work has exerted a profound influence on Western philosophy and modern intellectual history. He began his career as a classical philologist before turning to philosophy. He became the youngest ever to hold the Chair of Classical Philology at the University of Basel in 1869 at the age of 24. Nietzsche resigned in 1879 due to health problems that plagued him most of his life; he completed much of his core writing in the following decade. In 1889 at age 44, he suffered a collapse and afterward, a complete loss of his mental faculties. He lived his remaining years in the care of his mother until her death in 1897 and then with his sister Elisabeth Förster-Nietzsche. Nietzsche died in 1900.'"
   ]
  },
  {
   "cell_type": "code",
   "execution_count": 48,
   "id": "9968304d",
   "metadata": {},
   "outputs": [],
   "source": [
    "tokenize= nltk.word_tokenize(text)"
   ]
  },
  {
   "cell_type": "code",
   "execution_count": 52,
   "id": "e5ff3d7e",
   "metadata": {},
   "outputs": [
    {
     "data": {
      "text/plain": [
       "[('Friedrich', 'NNP'),\n",
       " ('Wilhelm', 'NNP'),\n",
       " ('Nietzsche', 'NNP'),\n",
       " ('was', 'VBD'),\n",
       " ('a', 'DT'),\n",
       " ('German', 'JJ'),\n",
       " ('philosopher', 'NN'),\n",
       " (',', ','),\n",
       " ('cultural', 'JJ'),\n",
       " ('critic', 'NN'),\n",
       " (',', ','),\n",
       " ('composer', 'NN'),\n",
       " (',', ','),\n",
       " ('poet', 'NN'),\n",
       " (',', ','),\n",
       " ('philologist', 'NN'),\n",
       " (',', ','),\n",
       " ('and', 'CC'),\n",
       " ('a', 'DT'),\n",
       " ('Latin', 'NNP'),\n",
       " ('and', 'CC'),\n",
       " ('Greek', 'NNP'),\n",
       " ('scholar', 'NN'),\n",
       " ('whose', 'WP$'),\n",
       " ('work', 'NN'),\n",
       " ('has', 'VBZ'),\n",
       " ('exerted', 'VBN'),\n",
       " ('a', 'DT'),\n",
       " ('profound', 'JJ'),\n",
       " ('influence', 'NN'),\n",
       " ('on', 'IN'),\n",
       " ('Western', 'JJ'),\n",
       " ('philosophy', 'NN'),\n",
       " ('and', 'CC'),\n",
       " ('modern', 'JJ'),\n",
       " ('intellectual', 'JJ'),\n",
       " ('history', 'NN'),\n",
       " ('.', '.'),\n",
       " ('He', 'PRP'),\n",
       " ('began', 'VBD'),\n",
       " ('his', 'PRP$'),\n",
       " ('career', 'NN'),\n",
       " ('as', 'IN'),\n",
       " ('a', 'DT'),\n",
       " ('classical', 'JJ'),\n",
       " ('philologist', 'NN'),\n",
       " ('before', 'IN'),\n",
       " ('turning', 'VBG'),\n",
       " ('to', 'TO'),\n",
       " ('philosophy', 'NN'),\n",
       " ('.', '.'),\n",
       " ('He', 'PRP'),\n",
       " ('became', 'VBD'),\n",
       " ('the', 'DT'),\n",
       " ('youngest', 'JJS'),\n",
       " ('ever', 'RB'),\n",
       " ('to', 'TO'),\n",
       " ('hold', 'VB'),\n",
       " ('the', 'DT'),\n",
       " ('Chair', 'NNP'),\n",
       " ('of', 'IN'),\n",
       " ('Classical', 'NNP'),\n",
       " ('Philology', 'NNP'),\n",
       " ('at', 'IN'),\n",
       " ('the', 'DT'),\n",
       " ('University', 'NNP'),\n",
       " ('of', 'IN'),\n",
       " ('Basel', 'NNP'),\n",
       " ('in', 'IN'),\n",
       " ('1869', 'CD'),\n",
       " ('at', 'IN'),\n",
       " ('the', 'DT'),\n",
       " ('age', 'NN'),\n",
       " ('of', 'IN'),\n",
       " ('24', 'CD'),\n",
       " ('.', '.'),\n",
       " ('Nietzsche', 'NN'),\n",
       " ('resigned', 'VBD'),\n",
       " ('in', 'IN'),\n",
       " ('1879', 'CD'),\n",
       " ('due', 'JJ'),\n",
       " ('to', 'TO'),\n",
       " ('health', 'NN'),\n",
       " ('problems', 'NNS'),\n",
       " ('that', 'WDT'),\n",
       " ('plagued', 'VBD'),\n",
       " ('him', 'PRP'),\n",
       " ('most', 'JJS'),\n",
       " ('of', 'IN'),\n",
       " ('his', 'PRP$'),\n",
       " ('life', 'NN'),\n",
       " (';', ':'),\n",
       " ('he', 'PRP'),\n",
       " ('completed', 'VBD'),\n",
       " ('much', 'JJ'),\n",
       " ('of', 'IN'),\n",
       " ('his', 'PRP$'),\n",
       " ('core', 'NN'),\n",
       " ('writing', 'NN'),\n",
       " ('in', 'IN'),\n",
       " ('the', 'DT'),\n",
       " ('following', 'JJ'),\n",
       " ('decade', 'NN'),\n",
       " ('.', '.'),\n",
       " ('In', 'IN'),\n",
       " ('1889', 'CD'),\n",
       " ('at', 'IN'),\n",
       " ('age', 'NN'),\n",
       " ('44', 'CD'),\n",
       " (',', ','),\n",
       " ('he', 'PRP'),\n",
       " ('suffered', 'VBD'),\n",
       " ('a', 'DT'),\n",
       " ('collapse', 'NN'),\n",
       " ('and', 'CC'),\n",
       " ('afterward', 'RB'),\n",
       " (',', ','),\n",
       " ('a', 'DT'),\n",
       " ('complete', 'JJ'),\n",
       " ('loss', 'NN'),\n",
       " ('of', 'IN'),\n",
       " ('his', 'PRP$'),\n",
       " ('mental', 'JJ'),\n",
       " ('faculties', 'NNS'),\n",
       " ('.', '.'),\n",
       " ('He', 'PRP'),\n",
       " ('lived', 'VBD'),\n",
       " ('his', 'PRP$'),\n",
       " ('remaining', 'VBG'),\n",
       " ('years', 'NNS'),\n",
       " ('in', 'IN'),\n",
       " ('the', 'DT'),\n",
       " ('care', 'NN'),\n",
       " ('of', 'IN'),\n",
       " ('his', 'PRP$'),\n",
       " ('mother', 'NN'),\n",
       " ('until', 'IN'),\n",
       " ('her', 'PRP$'),\n",
       " ('death', 'NN'),\n",
       " ('in', 'IN'),\n",
       " ('1897', 'CD'),\n",
       " ('and', 'CC'),\n",
       " ('then', 'RB'),\n",
       " ('with', 'IN'),\n",
       " ('his', 'PRP$'),\n",
       " ('sister', 'NN'),\n",
       " ('Elisabeth', 'NNP'),\n",
       " ('Förster-Nietzsche', 'NNP'),\n",
       " ('.', '.'),\n",
       " ('Nietzsche', 'NNP'),\n",
       " ('died', 'VBD'),\n",
       " ('in', 'IN'),\n",
       " ('1900', 'CD'),\n",
       " ('.', '.')]"
      ]
     },
     "execution_count": 52,
     "metadata": {},
     "output_type": "execute_result"
    }
   ],
   "source": [
    "nltk.pos_tag(tokenize)"
   ]
  },
  {
   "cell_type": "code",
   "execution_count": 53,
   "id": "b5adc700",
   "metadata": {},
   "outputs": [],
   "source": [
    "import nltk"
   ]
  },
  {
   "cell_type": "code",
   "execution_count": 54,
   "id": "88eb79ec",
   "metadata": {},
   "outputs": [],
   "source": [
    "text = \"Steve Jobs was an American entrepreneur and business magnate. He was the chairman, chief executive officer (CEO), and a co-founder of Apple Inc., chairman and majority shareholder of Pixar, a member of The Walt Disney Company's board of directors following its acquisition of Pixar, and the founder, chairman, and CEO of NeXT. Jobs is widely recognized as a pioneer of the microcomputer revolution of the 1970s and 1980s, along with Apple co-founder Steve Wozniak. \""
   ]
  },
  {
   "cell_type": "code",
   "execution_count": 56,
   "id": "497b4e27",
   "metadata": {},
   "outputs": [],
   "source": [
    "tokenized=nltk.word_tokenize(text)\n",
    "tagged=nltk.pos_tag(tokenized)\n",
    "namedEnt=nltk.ne_chunk(tagged)"
   ]
  },
  {
   "cell_type": "code",
   "execution_count": 57,
   "id": "c7d4e930",
   "metadata": {},
   "outputs": [],
   "source": [
    "namedEnt.draw()"
   ]
  },
  {
   "cell_type": "markdown",
   "id": "722388e2",
   "metadata": {},
   "source": [
    "## lemmatizing"
   ]
  },
  {
   "cell_type": "code",
   "execution_count": 58,
   "id": "3cac7ad9",
   "metadata": {},
   "outputs": [],
   "source": [
    "from nltk.stem import WordNetLemmatizer"
   ]
  },
  {
   "cell_type": "code",
   "execution_count": 59,
   "id": "b929c4db",
   "metadata": {},
   "outputs": [],
   "source": [
    "lem = WordNetLemmatizer()"
   ]
  },
  {
   "cell_type": "code",
   "execution_count": 60,
   "id": "04375181",
   "metadata": {},
   "outputs": [],
   "source": [
    "words=[\"drive\",\"driving\",\"driver\",\"drives\",\"drove\",\"cats\",\"children\"]"
   ]
  },
  {
   "cell_type": "code",
   "execution_count": 62,
   "id": "3cdf0e3d",
   "metadata": {},
   "outputs": [
    {
     "name": "stdout",
     "output_type": "stream",
     "text": [
      "drive\n",
      "driving\n",
      "driver\n",
      "drive\n",
      "drove\n",
      "cat\n",
      "child\n"
     ]
    }
   ],
   "source": [
    "for token in words:\n",
    "    print(lem.lemmatize(token))"
   ]
  },
  {
   "cell_type": "code",
   "execution_count": 63,
   "id": "4d838440",
   "metadata": {},
   "outputs": [
    {
     "data": {
      "text/plain": [
       "'drive'"
      ]
     },
     "execution_count": 63,
     "metadata": {},
     "output_type": "execute_result"
    }
   ],
   "source": [
    "lem.lemmatize(\"driving\",\"v\")"
   ]
  },
  {
   "cell_type": "code",
   "execution_count": 64,
   "id": "3c5c0aec",
   "metadata": {},
   "outputs": [
    {
     "data": {
      "text/plain": [
       "'drive'"
      ]
     },
     "execution_count": 64,
     "metadata": {},
     "output_type": "execute_result"
    }
   ],
   "source": [
    "lem.lemmatize(\"drove\",\"v\")"
   ]
  },
  {
   "cell_type": "code",
   "execution_count": null,
   "id": "ebed4c6a",
   "metadata": {},
   "outputs": [],
   "source": []
  }
 ],
 "metadata": {
  "kernelspec": {
   "display_name": "Python 3 (ipykernel)",
   "language": "python",
   "name": "python3"
  },
  "language_info": {
   "codemirror_mode": {
    "name": "ipython",
    "version": 3
   },
   "file_extension": ".py",
   "mimetype": "text/x-python",
   "name": "python",
   "nbconvert_exporter": "python",
   "pygments_lexer": "ipython3",
   "version": "3.9.19"
  }
 },
 "nbformat": 4,
 "nbformat_minor": 5
}
